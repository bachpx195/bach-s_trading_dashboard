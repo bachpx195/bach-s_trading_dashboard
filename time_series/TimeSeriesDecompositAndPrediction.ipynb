{
 "cells": [
  {
   "cell_type": "markdown",
   "metadata": {},
   "source": [
    "Time series decomposition is a technique that allows us to deconstruct a time series into its individual “component parts”. These parts consist of up to 4 different components:\n",
    "\n",
    "1) Trend component (T)\n",
    "\n",
    "2) Seasonal component (S)\n",
    "\n",
    "3) Cyclical component (C)\n",
    "\n",
    "4) Noise component (N)\n",
    "\n",
    "The Cyclical and Noise components and call it the “Remainder”"
   ]
  }
 ],
 "metadata": {
  "language_info": {
   "name": "python"
  },
  "orig_nbformat": 4
 },
 "nbformat": 4,
 "nbformat_minor": 2
}
