{
 "metadata": {
  "language_info": {
   "codemirror_mode": {
    "name": "ipython",
    "version": 3
   },
   "file_extension": ".py",
   "mimetype": "text/x-python",
   "name": "python",
   "nbconvert_exporter": "python",
   "pygments_lexer": "ipython3",
   "version": "3.8.5-final"
  },
  "orig_nbformat": 2,
  "kernelspec": {
   "name": "python3",
   "display_name": "Python 3",
   "language": "python"
  }
 },
 "nbformat": 4,
 "nbformat_minor": 2,
 "cells": [
  {
   "cell_type": "code",
   "execution_count": 5,
   "metadata": {},
   "outputs": [
    {
     "output_type": "execute_result",
     "data": {
      "text/plain": [
       "array([-1.])"
      ]
     },
     "metadata": {},
     "execution_count": 5
    }
   ],
   "source": [
    "import numpy as np \n",
    "\n",
    "np.diff([2,1])/1"
   ]
  },
  {
   "cell_type": "code",
   "execution_count": 2,
   "metadata": {},
   "outputs": [
    {
     "output_type": "execute_result",
     "data": {
      "text/plain": [
       "2.718281828459045"
      ]
     },
     "metadata": {},
     "execution_count": 2
    }
   ],
   "source": [
    "np.e"
   ]
  },
  {
   "source": [
    "### numpy.log\n",
    "\n",
    "In Maths, the logarithm is the inverse function of exponentiation. In simpler words, the logarithm is defined as a power to which a number must be raised in order to get some other number. It is also called the logarithm of base 10, or common logarithm. The general form of a logarithm is given as:\n",
    "\n",
    "loga (y) = x\n",
    "\n",
    "The above-given form is written as:\n",
    "\n",
    "ax = y"
   ],
   "cell_type": "markdown",
   "metadata": {}
  },
  {
   "cell_type": "code",
   "execution_count": null,
   "metadata": {},
   "outputs": [],
   "source": [
    "Let's suppose you have two prices $P1 and $P2 and two quantities Q1 and Q2\n",
    "In you first example, you are looking at log(P2P1) which can also be written as log(P2)−log(P1) - note I have reversed your order to make P2 the later price\n",
    "\n",
    "This is not quite the percentage change, but if P1 and P2 are close then this calculation will be close to the percentage change and may be useful in other calculations. For example if $P1=$297 and $P2=$303, it gives about 0.02 which is between the percentage differences calculated as 303−297297≈2.02% and 303−297303≈1.98%"
   ]
  },
  {
   "cell_type": "code",
   "execution_count": 9,
   "metadata": {},
   "outputs": [
    {
     "output_type": "execute_result",
     "data": {
      "text/plain": [
       "numpy.ndarray"
      ]
     },
     "metadata": {},
     "execution_count": 9
    }
   ],
   "source": [
    "np.random.seed(100)\n",
    "np_hist = np.random.normal(loc=0, scale=1, size=1000)\n",
    "np_hist.mean(),np_hist.std()\n",
    "hist,bin_edges = np.histogram(np_hist)\n",
    "\n",
    "type(np_hist)"
   ]
  },
  {
   "cell_type": "code",
   "execution_count": null,
   "metadata": {},
   "outputs": [],
   "source": []
  }
 ]
}