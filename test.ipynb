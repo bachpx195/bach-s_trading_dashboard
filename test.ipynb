{
 "cells": [
  {
   "cell_type": "code",
   "execution_count": 1,
   "metadata": {},
   "outputs": [
    {
     "name": "stdout",
     "output_type": "stream",
     "text": [
      "            test  type until_now\n",
      "2020-01-01     1    up      down\n",
      "2020-01-02     3    up        up\n",
      "2020-01-03     4  down      down\n",
      "2020-01-04     5    up        up\n",
      "2020-01-05     6  down      down\n",
      "________________\n",
      "            test  type until_now\n",
      "2020-01-01   3.0    up        up\n",
      "2020-01-02   4.0  down      down\n",
      "2020-01-03   5.0    up        up\n",
      "2020-01-04   6.0  down      down\n",
      "2020-01-05   NaN  None      None\n"
     ]
    }
   ],
   "source": [
    "import pandas as pd\n",
    "\n",
    "df = pd.DataFrame({\"test\": [1,3,4,5,6], 'type': ['up', 'up', 'down', 'up', 'down'], 'until_now': ['down', 'up', 'down', 'up', 'down']}, index=pd.date_range(\"2020-01-01\", \"2020-01-05\"))\n",
    "\n",
    "print(df)\n",
    "\n",
    "print(\"________________\")\n",
    "\n",
    "print(df.shift(-1))\n",
    "\n",
    "\n",
    "# row = df.iloc[3]\n",
    "# print(row)\n",
    "\n",
    "# print(row.shift(-1))\n",
    "\n",
    "# print(df.iloc[1].shift())\n",
    "\n",
    "# print(df)\n",
    "\n",
    "# print(\"________\")\n",
    "\n",
    "# print(df.test.shift())"
   ]
  },
  {
   "cell_type": "code",
   "execution_count": 2,
   "metadata": {},
   "outputs": [
    {
     "name": "stdout",
     "output_type": "stream",
     "text": [
      "           a         b         c\n",
      "0   2.646900 -0.395253  0.372634\n",
      "1  -0.679873  0.386484  0.312349\n",
      "2   0.238577 -0.682441 -0.355223\n",
      "3  -0.108686  0.861535  0.807727\n",
      "4   0.818846 -0.859113 -1.010072\n",
      "5  -0.378909  0.005971 -0.452981\n",
      "6  -0.840213  0.087476 -0.319353\n",
      "7  -0.749866  0.273001 -0.740114\n",
      "8  -0.447087 -1.288475  0.129909\n",
      "9  -0.795422  0.609262  0.785329\n",
      "10 -1.434404 -1.000891  0.173304\n",
      "11 -1.747039  0.495883 -0.378727\n",
      "12  0.874279  1.240055 -0.213261\n",
      "13 -0.208309  0.432294 -1.423411\n",
      "14 -0.738747  0.953140  0.029203\n",
      "15 -0.615301  0.779374 -0.335232\n",
      "16  0.649733  0.490438 -1.027973\n",
      "17 -0.587504 -0.959805 -0.345923\n",
      "18  0.725027  0.953806 -0.395841\n",
      "19 -1.117589  0.345728  1.688664\n",
      "20  0.770881  1.244736 -0.893232\n",
      "21 -0.111999 -1.516896  0.453137\n",
      "22 -0.712143  0.225699 -0.047739\n",
      "23 -0.705396  0.593621 -1.846373\n",
      "24 -1.058965 -0.542913 -0.789018\n",
      "25  0.142135  1.263317  1.024595\n",
      "26  0.009817  0.747585 -0.081076\n",
      "27 -1.751208 -0.801402 -0.556263\n",
      "28  0.603189 -0.701350  0.937470\n",
      "29  1.033909 -0.969173 -2.049255\n",
      "30 -0.241680  0.721466 -2.314403\n",
      "31 -0.352187 -0.791524 -2.852601\n",
      "32  0.513410 -1.188839 -1.030795\n",
      "33 -1.741342  0.965769  0.581834\n",
      "34  0.478140  0.646845  1.259427\n",
      "35  1.988161  0.048165 -0.157006\n",
      "36 -0.668089 -0.432528  1.455423\n",
      "37 -0.190281  0.216357  0.291468\n",
      "38  1.387758 -0.703699 -0.485798\n",
      "39 -0.515918  0.644421 -0.955954\n",
      "40  0.407224 -1.027038  0.191825\n",
      "41 -0.210056 -0.026862  0.013756\n",
      "42 -0.837301 -0.108414  0.582493\n",
      "43  1.499003  1.990484  1.341020\n",
      "44 -0.637391 -1.143997  1.615497\n",
      "45  0.258875 -0.322346  1.266022\n",
      "46 -1.005188  0.871493  1.649681\n",
      "47  0.872847  1.729845  1.526557\n",
      "48 -0.339588  0.039672 -0.145652\n",
      "49 -0.053278  0.366552  0.973560\n"
     ]
    }
   ],
   "source": [
    "import pandas as pd\n",
    "import numpy as np\n",
    "\n",
    "df = pd.DataFrame(\n",
    "     np.random.randn(50, 3),\n",
    "     columns=[\"a\", \"b\", \"c\"])\n",
    "\n",
    "print(df)"
   ]
  },
  {
   "cell_type": "code",
   "execution_count": null,
   "metadata": {},
   "outputs": [],
   "source": []
  },
  {
   "cell_type": "code",
   "execution_count": 5,
   "metadata": {},
   "outputs": [
    {
     "name": "stdout",
     "output_type": "stream",
     "text": [
      "-1.0\n"
     ]
    }
   ],
   "source": [
    "from sklearn.metrics import matthews_corrcoef\n",
    "\n",
    "y_true = ['up', 'up', 'down', 'up']\n",
    "y_pred = ['down', 'down', 'up', 'down']\n",
    "\n",
    "\n",
    "a = matthews_corrcoef(y_true, y_pred)\n",
    "\n",
    "print(a)"
   ]
  },
  {
   "cell_type": "code",
   "execution_count": 9,
   "metadata": {},
   "outputs": [
    {
     "name": "stdout",
     "output_type": "stream",
     "text": [
      "['up', 'up', 'down', 'up', 'down']\n"
     ]
    }
   ],
   "source": [
    "import pandas as pd\n",
    "\n",
    "df = pd.DataFrame({\"test\": [1,3,4,5,6], 'type': ['up', 'up', 'down', 'up', 'down'], 'until_now': ['down', 'up', 'down', 'up', 'down']}, index=pd.date_range(\"2020-01-01\", \"2020-01-05\"))\n",
    "\n",
    "print(df['type'].to_list())"
   ]
  },
  {
   "cell_type": "code",
   "execution_count": 3,
   "metadata": {},
   "outputs": [
    {
     "name": "stdout",
     "output_type": "stream",
     "text": [
      "['up', 'up', 'down', 'up', 'down']\n"
     ]
    }
   ],
   "source": [
    "import pandas as pd\n",
    "\n",
    "df = pd.DataFrame({\"test\": [1,3,4,5,6], 'type': ['up', 'up', 'down', 'up', 'down'], 'until_now': ['down', 'up', 'down', 'up', 'down']}, index=pd.date_range(\"2020-01-01\", \"2020-01-05\"))\n",
    "\n",
    "bach = \"bach\"\n",
    "\n",
    "# exec()\n",
    "\n",
    "print(df['type'].to_list())\n"
   ]
  },
  {
   "cell_type": "code",
   "execution_count": null,
   "metadata": {},
   "outputs": [],
   "source": [
    "day_list = unique_list(data_prices['day'].tolist())\n",
    "highest_hour_list = []\n",
    "highest_return_list = []\n",
    "for day in day_list:\n",
    "max_value = data_prices[data_prices['day'] == day].hour_return.max()\n",
    "min_value = data_prices[data_prices['day'] == day].hour_return.min()\n",
    "\n",
    "highest_return = max_value if max_value > abs(min_value) else min_value\n",
    "highest_return_list.append(highest_return)\n",
    "highest_hour_list.append(data_prices[data_prices['hour_return'] == highest_return].hour.values[0])\n",
    "\n",
    "data = {\n",
    "    'highest_in_day': highest_hour_list,\n",
    "    'highest_return': highest_return_list\n",
    "}\n",
    "\n",
    "df = pd.DataFrame(data, index=day_list)"
   ]
  },
  {
   "cell_type": "code",
   "execution_count": 18,
   "metadata": {},
   "outputs": [
    {
     "data": {
      "image/png": "[encoded data removed]",
      "text/plain": [
       "<Figure size 864x648 with 3 Axes>"
      ]
     },
     "metadata": {
      "needs_background": "light"
     },
     "output_type": "display_data"
    },
    {
     "name": "stdout",
     "output_type": "stream",
     "text": [
      "Test RMSE: 0.26738\n"
     ]
    },
    {
     "data": {
      "image/png": "[encoded data removed]",
      "text/plain": [
       "<Figure size 864x648 with 1 Axes>"
      ]
     },
     "metadata": {
      "needs_background": "light"
     },
     "output_type": "display_data"
    }
   ],
   "source": [
    "from myenv.models.candlestick import Candlestick\n",
    "from myenv.helpers.constants import HIGH_INDEX, LOW_INDEX, OPEN_INDEX, CLOSE_INDEX\n",
    "from myenv.models.merchandise_rate import MerchandiseRate\n",
    "from myenv.helpers.utils import percentage_change, candlestick_type, type_continuous, until_now_type, candlestick_type_by_hour\n",
    "import matplotlib.pyplot as plt\n",
    "import numpy as np\n",
    "from statsmodels.tsa.seasonal import seasonal_decompose\n",
    "import statsmodels.api as sm\n",
    "from statsmodels.tsa.seasonal import STL\n",
    "from sklearn.metrics import mean_squared_error\n",
    "from statsmodels.tsa.ar_model import AR\n",
    "import seaborn as sns\n",
    "\n",
    "\n",
    "\n",
    "%matplotlib inline\n",
    "\n",
    "\n",
    "merchandise_rate = MerchandiseRate()\n",
    "merchandise_rate_id = merchandise_rate.find_by_slug('DOTUSDT')\n",
    "candlestick = Candlestick(merchandise_rate_id, 'day', 100, \"DESC\")\n",
    "data_prices = candlestick.to_df()\n",
    "\n",
    "data_prices['average_prices'] = data_prices.apply(\n",
    "    lambda x: round((x['open'] + x['close'] + x['high'] + x['low'])/4, 2), axis=1)\n",
    "\n",
    "plt.rcParams['figure.figsize'] = [12, 9]\n",
    "series = data_prices['average_prices']\n",
    "cycle, trend = sm.tsa.filters.hpfilter(series, 500)\n",
    "fig, ax = plt.subplots(3,1)\n",
    "ax[0].plot(series)\n",
    "ax[0].set_title('Price')\n",
    "ax[1].plot(trend)\n",
    "ax[1].set_title('Trend')\n",
    "ax[2].plot(cycle)\n",
    "ax[2].set_title('Cycle')\n",
    "plt.show()\n",
    "\n",
    "\n",
    "predictions = series.shift(1).dropna()\n",
    "test_score = np.sqrt(mean_squared_error(series[int(len(series) * 0.7)+1:], predictions.iloc[int(len(series) * 0.7):]))\n",
    "print('Test RMSE: %.5f' % test_score)\n",
    "plt.plot(series.iloc[-25:], label='Price')\n",
    "plt.plot(predictions[-25:], color='red', label='Prediction')\n",
    "plt.legend()\n",
    "plt.show()\n",
    "\n",
    "# print(data_prices)\n",
    "\n",
    "# result = seasonal_decompose(data_prices.average_prices, model='additive', freq=1)\n",
    "# result.plot()\n",
    "# plt.show()"
   ]
  },
  {
   "cell_type": "code",
   "execution_count": 10,
   "metadata": {},
   "outputs": [
    {
     "data": {
      "application/vnd.plotly.v1+json": {
       "config": {
        "plotlyServerURL": "https://plot.ly"
       },
       "data": [
        {
         "close": [
          "17",
          "24",
          "22",
          "10",
          "21",
          "25",
          "26",
          "30",
          "18",
          "10"
         ],
         "high": [
          "21",
          "27",
          "25",
          "29",
          "24",
          "27",
          "28",
          "32",
          "29",
          "25"
         ],
         "low": [
          "6",
          "12",
          "18",
          "9",
          "5",
          "8",
          "24",
          "18",
          "15",
          "10"
         ],
         "open": [
          "10",
          "17",
          "23",
          "20",
          "8",
          "22",
          "24",
          "25",
          "29",
          "22"
         ],
         "type": "candlestick",
         "x": [
          0,
          0.5,
          1,
          1.5,
          2,
          2.5,
          3,
          3.5,
          4,
          4.5
         ]
        }
       ],
       "layout": {
        "shapes": [
         {
          "fillcolor": "orange",
          "layer": "below",
          "opacity": 0.35,
          "type": "rect",
          "x0": 0.3,
          "x1": 1.2,
          "xref": "x",
          "y0": 11,
          "y1": 28,
          "yref": "y"
         }
        ],
        "template": {
         "data": {
          "bar": [
           {
            "error_x": {
             "color": "#2a3f5f"
            },
            "error_y": {
             "color": "#2a3f5f"
            },
            "marker": {
             "line": {
              "color": "#E5ECF6",
              "width": 0.5
             },
             "pattern": {
              "fillmode": "overlay",
              "size": 10,
              "solidity": 0.2
             }
            },
            "type": "bar"
           }
          ],
          "barpolar": [
           {
            "marker": {
             "line": {
              "color": "#E5ECF6",
              "width": 0.5
             },
             "pattern": {
              "fillmode": "overlay",
              "size": 10,
              "solidity": 0.2
             }
            },
            "type": "barpolar"
           }
          ],
          "carpet": [
           {
            "aaxis": {
             "endlinecolor": "#2a3f5f",
             "gridcolor": "white",
             "linecolor": "white",
             "minorgridcolor": "white",
             "startlinecolor": "#2a3f5f"
            },
            "baxis": {
             "endlinecolor": "#2a3f5f",
             "gridcolor": "white",
             "linecolor": "white",
             "minorgridcolor": "white",
             "startlinecolor": "#2a3f5f"
            },
            "type": "carpet"
           }
          ],
          "choropleth": [
           {
            "colorbar": {
             "outlinewidth": 0,
             "ticks": ""
            },
            "type": "choropleth"
           }
          ],
          "contour": [
           {
            "colorbar": {
             "outlinewidth": 0,
             "ticks": ""
            },
            "colorscale": [
             [
              0,
              "#0d0887"
             ],
             [
              0.1111111111111111,
              "#46039f"
             ],
             [
              0.2222222222222222,
              "#7201a8"
             ],
             [
              0.3333333333333333,
              "#9c179e"
             ],
             [
              0.4444444444444444,
              "#bd3786"
             ],
             [
              0.5555555555555556,
              "#d8576b"
             ],
             [
              0.6666666666666666,
              "#ed7953"
             ],
             [
              0.7777777777777778,
              "#fb9f3a"
             ],
             [
              0.8888888888888888,
              "#fdca26"
             ],
             [
              1,
              "#f0f921"
             ]
            ],
            "type": "contour"
           }
          ],
          "contourcarpet": [
           {
            "colorbar": {
             "outlinewidth": 0,
             "ticks": ""
            },
            "type": "contourcarpet"
           }
          ],
          "heatmap": [
           {
            "colorbar": {
             "outlinewidth": 0,
             "ticks": ""
            },
            "colorscale": [
             [
              0,
              "#0d0887"
             ],
             [
              0.1111111111111111,
              "#46039f"
             ],
             [
              0.2222222222222222,
              "#7201a8"
             ],
             [
              0.3333333333333333,
              "#9c179e"
             ],
             [
              0.4444444444444444,
              "#bd3786"
             ],
             [
              0.5555555555555556,
              "#d8576b"
             ],
             [
              0.6666666666666666,
              "#ed7953"
             ],
             [
              0.7777777777777778,
              "#fb9f3a"
             ],
             [
              0.8888888888888888,
              "#fdca26"
             ],
             [
              1,
              "#f0f921"
             ]
            ],
            "type": "heatmap"
           }
          ],
          "heatmapgl": [
           {
            "colorbar": {
             "outlinewidth": 0,
             "ticks": ""
            },
            "colorscale": [
             [
              0,
              "#0d0887"
             ],
             [
              0.1111111111111111,
              "#46039f"
             ],
             [
              0.2222222222222222,
              "#7201a8"
             ],
             [
              0.3333333333333333,
              "#9c179e"
             ],
             [
              0.4444444444444444,
              "#bd3786"
             ],
             [
              0.5555555555555556,
              "#d8576b"
             ],
             [
              0.6666666666666666,
              "#ed7953"
             ],
             [
              0.7777777777777778,
              "#fb9f3a"
             ],
             [
              0.8888888888888888,
              "#fdca26"
             ],
             [
              1,
              "#f0f921"
             ]
            ],
            "type": "heatmapgl"
           }
          ],
          "histogram": [
           {
            "marker": {
             "pattern": {
              "fillmode": "overlay",
              "size": 10,
              "solidity": 0.2
             }
            },
            "type": "histogram"
           }
          ],
          "histogram2d": [
           {
            "colorbar": {
             "outlinewidth": 0,
             "ticks": ""
            },
            "colorscale": [
             [
              0,
              "#0d0887"
             ],
             [
              0.1111111111111111,
              "#46039f"
             ],
             [
              0.2222222222222222,
              "#7201a8"
             ],
             [
              0.3333333333333333,
              "#9c179e"
             ],
             [
              0.4444444444444444,
              "#bd3786"
             ],
             [
              0.5555555555555556,
              "#d8576b"
             ],
             [
              0.6666666666666666,
              "#ed7953"
             ],
             [
              0.7777777777777778,
              "#fb9f3a"
             ],
             [
              0.8888888888888888,
              "#fdca26"
             ],
             [
              1,
              "#f0f921"
             ]
            ],
            "type": "histogram2d"
           }
          ],
          "histogram2dcontour": [
           {
            "colorbar": {
             "outlinewidth": 0,
             "ticks": ""
            },
            "colorscale": [
             [
              0,
              "#0d0887"
             ],
             [
              0.1111111111111111,
              "#46039f"
             ],
             [
              0.2222222222222222,
              "#7201a8"
             ],
             [
              0.3333333333333333,
              "#9c179e"
             ],
             [
              0.4444444444444444,
              "#bd3786"
             ],
             [
              0.5555555555555556,
              "#d8576b"
             ],
             [
              0.6666666666666666,
              "#ed7953"
             ],
             [
              0.7777777777777778,
              "#fb9f3a"
             ],
             [
              0.8888888888888888,
              "#fdca26"
             ],
             [
              1,
              "#f0f921"
             ]
            ],
            "type": "histogram2dcontour"
           }
          ],
          "mesh3d": [
           {
            "colorbar": {
             "outlinewidth": 0,
             "ticks": ""
            },
            "type": "mesh3d"
           }
          ],
          "parcoords": [
           {
            "line": {
             "colorbar": {
              "outlinewidth": 0,
              "ticks": ""
             }
            },
            "type": "parcoords"
           }
          ],
          "pie": [
           {
            "automargin": true,
            "type": "pie"
           }
          ],
          "scatter": [
           {
            "marker": {
             "colorbar": {
              "outlinewidth": 0,
              "ticks": ""
             }
            },
            "type": "scatter"
           }
          ],
          "scatter3d": [
           {
            "line": {
             "colorbar": {
              "outlinewidth": 0,
              "ticks": ""
             }
            },
            "marker": {
             "colorbar": {
              "outlinewidth": 0,
              "ticks": ""
             }
            },
            "type": "scatter3d"
           }
          ],
          "scattercarpet": [
           {
            "marker": {
             "colorbar": {
              "outlinewidth": 0,
              "ticks": ""
             }
            },
            "type": "scattercarpet"
           }
          ],
          "scattergeo": [
           {
            "marker": {
             "colorbar": {
              "outlinewidth": 0,
              "ticks": ""
             }
            },
            "type": "scattergeo"
           }
          ],
          "scattergl": [
           {
            "marker": {
             "colorbar": {
              "outlinewidth": 0,
              "ticks": ""
             }
            },
            "type": "scattergl"
           }
          ],
          "scattermapbox": [
           {
            "marker": {
             "colorbar": {
              "outlinewidth": 0,
              "ticks": ""
             }
            },
            "type": "scattermapbox"
           }
          ],
          "scatterpolar": [
           {
            "marker": {
             "colorbar": {
              "outlinewidth": 0,
              "ticks": ""
             }
            },
            "type": "scatterpolar"
           }
          ],
          "scatterpolargl": [
           {
            "marker": {
             "colorbar": {
              "outlinewidth": 0,
              "ticks": ""
             }
            },
            "type": "scatterpolargl"
           }
          ],
          "scatterternary": [
           {
            "marker": {
             "colorbar": {
              "outlinewidth": 0,
              "ticks": ""
             }
            },
            "type": "scatterternary"
           }
          ],
          "surface": [
           {
            "colorbar": {
             "outlinewidth": 0,
             "ticks": ""
            },
            "colorscale": [
             [
              0,
              "#0d0887"
             ],
             [
              0.1111111111111111,
              "#46039f"
             ],
             [
              0.2222222222222222,
              "#7201a8"
             ],
             [
              0.3333333333333333,
              "#9c179e"
             ],
             [
              0.4444444444444444,
              "#bd3786"
             ],
             [
              0.5555555555555556,
              "#d8576b"
             ],
             [
              0.6666666666666666,
              "#ed7953"
             ],
             [
              0.7777777777777778,
              "#fb9f3a"
             ],
             [
              0.8888888888888888,
              "#fdca26"
             ],
             [
              1,
              "#f0f921"
             ]
            ],
            "type": "surface"
           }
          ],
          "table": [
           {
            "cells": {
             "fill": {
              "color": "#EBF0F8"
             },
             "line": {
              "color": "white"
             }
            },
            "header": {
             "fill": {
              "color": "#C8D4E3"
             },
             "line": {
              "color": "white"
             }
            },
            "type": "table"
           }
          ]
         },
         "layout": {
          "annotationdefaults": {
           "arrowcolor": "#2a3f5f",
           "arrowhead": 0,
           "arrowwidth": 1
          },
          "autotypenumbers": "strict",
          "coloraxis": {
           "colorbar": {
            "outlinewidth": 0,
            "ticks": ""
           }
          },
          "colorscale": {
           "diverging": [
            [
             0,
             "#8e0152"
            ],
            [
             0.1,
             "#c51b7d"
            ],
            [
             0.2,
             "#de77ae"
            ],
            [
             0.3,
             "#f1b6da"
            ],
            [
             0.4,
             "#fde0ef"
            ],
            [
             0.5,
             "#f7f7f7"
            ],
            [
             0.6,
             "#e6f5d0"
            ],
            [
             0.7,
             "#b8e186"
            ],
            [
             0.8,
             "#7fbc41"
            ],
            [
             0.9,
             "#4d9221"
            ],
            [
             1,
             "#276419"
            ]
           ],
           "sequential": [
            [
             0,
             "#0d0887"
            ],
            [
             0.1111111111111111,
             "#46039f"
            ],
            [
             0.2222222222222222,
             "#7201a8"
            ],
            [
             0.3333333333333333,
             "#9c179e"
            ],
            [
             0.4444444444444444,
             "#bd3786"
            ],
            [
             0.5555555555555556,
             "#d8576b"
            ],
            [
             0.6666666666666666,
             "#ed7953"
            ],
            [
             0.7777777777777778,
             "#fb9f3a"
            ],
            [
             0.8888888888888888,
             "#fdca26"
            ],
            [
             1,
             "#f0f921"
            ]
           ],
           "sequentialminus": [
            [
             0,
             "#0d0887"
            ],
            [
             0.1111111111111111,
             "#46039f"
            ],
            [
             0.2222222222222222,
             "#7201a8"
            ],
            [
             0.3333333333333333,
             "#9c179e"
            ],
            [
             0.4444444444444444,
             "#bd3786"
            ],
            [
             0.5555555555555556,
             "#d8576b"
            ],
            [
             0.6666666666666666,
             "#ed7953"
            ],
            [
             0.7777777777777778,
             "#fb9f3a"
            ],
            [
             0.8888888888888888,
             "#fdca26"
            ],
            [
             1,
             "#f0f921"
            ]
           ]
          },
          "colorway": [
           "#636efa",
           "#EF553B",
           "#00cc96",
           "#ab63fa",
           "#FFA15A",
           "#19d3f3",
           "#FF6692",
           "#B6E880",
           "#FF97FF",
           "#FECB52"
          ],
          "font": {
           "color": "#2a3f5f"
          },
          "geo": {
           "bgcolor": "white",
           "lakecolor": "white",
           "landcolor": "#E5ECF6",
           "showlakes": true,
           "showland": true,
           "subunitcolor": "white"
          },
          "hoverlabel": {
           "align": "left"
          },
          "hovermode": "closest",
          "mapbox": {
           "style": "light"
          },
          "paper_bgcolor": "white",
          "plot_bgcolor": "#E5ECF6",
          "polar": {
           "angularaxis": {
            "gridcolor": "white",
            "linecolor": "white",
            "ticks": ""
           },
           "bgcolor": "#E5ECF6",
           "radialaxis": {
            "gridcolor": "white",
            "linecolor": "white",
            "ticks": ""
           }
          },
          "scene": {
           "xaxis": {
            "backgroundcolor": "#E5ECF6",
            "gridcolor": "white",
            "gridwidth": 2,
            "linecolor": "white",
            "showbackground": true,
            "ticks": "",
            "zerolinecolor": "white"
           },
           "yaxis": {
            "backgroundcolor": "#E5ECF6",
            "gridcolor": "white",
            "gridwidth": 2,
            "linecolor": "white",
            "showbackground": true,
            "ticks": "",
            "zerolinecolor": "white"
           },
           "zaxis": {
            "backgroundcolor": "#E5ECF6",
            "gridcolor": "white",
            "gridwidth": 2,
            "linecolor": "white",
            "showbackground": true,
            "ticks": "",
            "zerolinecolor": "white"
           }
          },
          "shapedefaults": {
           "line": {
            "color": "#2a3f5f"
           }
          },
          "ternary": {
           "aaxis": {
            "gridcolor": "white",
            "linecolor": "white",
            "ticks": ""
           },
           "baxis": {
            "gridcolor": "white",
            "linecolor": "white",
            "ticks": ""
           },
           "bgcolor": "#E5ECF6",
           "caxis": {
            "gridcolor": "white",
            "linecolor": "white",
            "ticks": ""
           }
          },
          "title": {
           "x": 0.05
          },
          "xaxis": {
           "automargin": true,
           "gridcolor": "white",
           "linecolor": "white",
           "ticks": "",
           "title": {
            "standoff": 15
           },
           "zerolinecolor": "white",
           "zerolinewidth": 2
          },
          "yaxis": {
           "automargin": true,
           "gridcolor": "white",
           "linecolor": "white",
           "ticks": "",
           "title": {
            "standoff": 15
           },
           "zerolinecolor": "white",
           "zerolinewidth": 2
          }
         }
        },
        "xaxis": {
         "rangeslider": {
          "visible": false
         },
         "ticktext": [
          "30/10 09:00",
          "30/10 09:05",
          "30/10,09:10",
          "30/10 09:15",
          "30/10 09:20",
          "30/10 09:25",
          "30/10 09:30",
          "30/10 09:35",
          "30/10 09:40",
          "30/10 09:45"
         ],
         "tickvals": [
          0,
          0.5,
          1,
          1.5,
          2,
          2.5,
          3,
          3.5,
          4,
          4.5
         ]
        }
       }
      }
     },
     "metadata": {},
     "output_type": "display_data"
    },
    {
     "name": "stdout",
     "output_type": "stream",
     "text": [
      "{'type': 'rect', 'xref': 'x', 'yref': 'y', 'layer': 'below', 'x0': 0.3, 'y0': 11.0, 'x1': 0.7, 'y1': 28.0, 'fillcolor': 'orange', 'opacity': 0.35}\n"
     ]
    }
   ],
   "source": [
    "import pandas as pd\n",
    "import plotly.graph_objects as go\n",
    "\n",
    "df = pd.DataFrame({\"data_minu\": ['30/10 09:00','30/10 09:05','30/10,09:10','30/10 09:15','30/10 09:20','30/10 09:25','30/10 09:30','30/10 09:35','30/10 09:40','30/10 09:45'],\n",
    "                   \"Open\":['10','17','23','20','8','22','24','25','29','22'],\n",
    "                   \"High\":['21','27','25','29','24','27','28','32','29','25'],\n",
    "                   \"Low\":['6','12','18','9','5','8','24','18','15','10'],\n",
    "                   \"Close\":['17','24','22','10','21','25','26','30','18','10']})     \n",
    "\n",
    "tickvals =[k*0.5 for k in range(len(df))]\n",
    "ticktext=list(df[\"data_minu\"])\n",
    "fig = go.Figure(data=[go.Candlestick(x=tickvals, #df['data_minu'],\n",
    "                open=df['Open'], high=df['High'],\n",
    "                low=df['Low'], close=df['Close'])\n",
    "                     ])  \n",
    "\n",
    "fig.update_layout(xaxis_rangeslider_visible=False, xaxis_tickvals=tickvals, xaxis_ticktext=ticktext) \n",
    "\n",
    "fig.add_shape(dict(type='rect',\n",
    "                    xref='x', yref='y',\n",
    "                    layer='below', \n",
    "                    x0 = tickvals[1] -0.2, y0 = float(df.loc[1, 'Low'])-1,\n",
    "                    x1 = tickvals[2] +0.2, y1 = float(df.loc[1, 'High'])+1,\n",
    "                    fillcolor='orange', #'RoyalBlue',\n",
    "                    opacity=0.35))\n",
    "\n",
    "fig.show()\n",
    "\n",
    "print(dict(type='rect',\n",
    "                    xref='x', yref='y',\n",
    "                    layer='below', \n",
    "                    x0 = tickvals[1]-0.2, y0 = float(df.loc[1, 'Low'])-1,\n",
    "                    x1 = tickvals[1]+0.2, y1 = float(df.loc[1, 'High'])+1,\n",
    "                    fillcolor='orange', #'RoyalBlue',\n",
    "                    opacity=0.35))"
   ]
  },
  {
   "cell_type": "code",
   "execution_count": 14,
   "metadata": {},
   "outputs": [
    {
     "name": "stdout",
     "output_type": "stream",
     "text": [
      "1\n",
      "2\n",
      "2880.0\n"
     ]
    }
   ],
   "source": [
    "fund = 2000\n",
    "leverage = 20\n",
    "win_streak = 2\n",
    "\n",
    "fund_after_leverage = fund*leverage\n",
    "borrow = fund_after_leverage - fund\n",
    "\n",
    "for i in range(win_streak):\n",
    "    print(i + 1)\n",
    "    fund = fund_after_leverage*101/100 - borrow\n",
    "    fund_after_leverage = fund*leverage\n",
    "    borrow = fund_after_leverage - fund\n",
    "\n",
    "print(fund)\n"
   ]
  }
 ],
 "metadata": {
  "kernelspec": {
   "display_name": ".venv",
   "language": "python",
   "name": "python3"
  },
  "language_info": {
   "codemirror_mode": {
    "name": "ipython",
    "version": 3
   },
   "file_extension": ".py",
   "mimetype": "text/x-python",
   "name": "python",
   "nbconvert_exporter": "python",
   "pygments_lexer": "ipython3",
   "version": "3.8.10"
  },
  "orig_nbformat": 4
 },
 "nbformat": 4,
 "nbformat_minor": 2
}
