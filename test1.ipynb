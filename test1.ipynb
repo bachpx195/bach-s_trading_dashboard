{
 "cells": [
  {
   "cell_type": "markdown",
   "metadata": {},
   "source": [
    "# Data management\n"
   ]
  },
  {
   "cell_type": "code",
   "execution_count": 1,
   "metadata": {},
   "outputs": [
    {
     "ename": "TypeError",
     "evalue": "__init__() missing 1 required positional argument: 'merchandise_rate_id'",
     "output_type": "error",
     "traceback": [
      "\u001b[0;31m---------------------------------------------------------------------------\u001b[0m",
      "\u001b[0;31mTypeError\u001b[0m                                 Traceback (most recent call last)",
      "Cell \u001b[0;32mIn[1], line 8\u001b[0m\n\u001b[1;32m      4\u001b[0m get_ipython()\u001b[38;5;241m.\u001b[39mrun_line_magic(\u001b[38;5;124m'\u001b[39m\u001b[38;5;124mmatplotlib\u001b[39m\u001b[38;5;124m'\u001b[39m, \u001b[38;5;124m'\u001b[39m\u001b[38;5;124minline\u001b[39m\u001b[38;5;124m'\u001b[39m)\n\u001b[1;32m      6\u001b[0m \u001b[38;5;28;01mfrom\u001b[39;00m \u001b[38;5;21;01mmodels\u001b[39;00m\u001b[38;5;21;01m.\u001b[39;00m\u001b[38;5;21;01mcandlestick\u001b[39;00m \u001b[38;5;28;01mimport\u001b[39;00m Candlestick\n\u001b[0;32m----> 8\u001b[0m candlestick \u001b[38;5;241m=\u001b[39m \u001b[43mCandlestick\u001b[49m\u001b[43m(\u001b[49m\u001b[43m)\u001b[49m\n\u001b[1;32m     10\u001b[0m bitcoin_prices \u001b[38;5;241m=\u001b[39m candlestick\u001b[38;5;241m.\u001b[39mto_df()\n\u001b[1;32m     12\u001b[0m \u001b[38;5;28mtype\u001b[39m(bitcoin_prices)\n",
      "\u001b[0;31mTypeError\u001b[0m: __init__() missing 1 required positional argument: 'merchandise_rate_id'"
     ]
    }
   ],
   "source": [
    "import pandas as pd\n",
    "import numpy as np\n",
    "import matplotlib.pyplot as plt\n",
    "%matplotlib inline\n",
    "\n",
    "from models.candlestick import Candlestick\n",
    "\n",
    "candlestick = Candlestick()\n",
    "\n",
    "bitcoin_prices = candlestick.to_df()\n",
    "\n",
    "type(bitcoin_prices)\n",
    "\n",
    "\n",
    "def logDiff(x):\n",
    "    x_diff = 100*np.log(x/x.shift(1))\n",
    "    return x_diff\n",
    "\n",
    "def changeDiff(x):\n",
    "    x_diff = np.diff(x) / x[:-1] * 100\n",
    "    return x_diff"
   ]
  },
  {
   "cell_type": "markdown",
   "metadata": {},
   "source": [
    "## Data description and calculation"
   ]
  },
  {
   "cell_type": "code",
   "execution_count": null,
   "metadata": {},
   "outputs": [],
   "source": []
  },
  {
   "cell_type": "markdown",
   "metadata": {},
   "source": [
    "### Describe data\n"
   ]
  },
  {
   "cell_type": "code",
   "execution_count": null,
   "metadata": {},
   "outputs": [],
   "source": [
    "bitcoin_prices.head(10)\n",
    "\n",
    "bitcoin_prices['open'].mean()\n",
    "\n",
    "bitcoin_prices.describe()"
   ]
  },
  {
   "cell_type": "code",
   "execution_count": null,
   "metadata": {},
   "outputs": [],
   "source": [
    "bitcoin_prices.corr()"
   ]
  },
  {
   "cell_type": "code",
   "execution_count": null,
   "metadata": {},
   "outputs": [],
   "source": [
    "df = pd.DataFrame([(.2,.3), (.0,.6), (.6, .0), (.2, .1)], columns=['dogs', 'cats'])\n",
    "\n",
    "print(df)\n",
    "\n",
    "print(df.describe())\n",
    "\n",
    "df.corr()"
   ]
  },
  {
   "cell_type": "markdown",
   "metadata": {},
   "source": [
    "### Internal rate of return\n",
    "\n"
   ]
  },
  {
   "cell_type": "code",
   "execution_count": null,
   "metadata": {},
   "outputs": [],
   "source": [
    "cashflow = pd.Series(index=[0, 1, 2, 3, 4,5], name='Cashflow', data=[-107,5,5,5,5,105])\n",
    "\n",
    "print(cashflow)\n",
    "\n",
    "#irr lai suat hoan von noi bo (research)\n",
    "np.irr(cashflow)"
   ]
  },
  {
   "cell_type": "code",
   "execution_count": null,
   "metadata": {},
   "outputs": [],
   "source": [
    "data = pd.read_excel(\"data/UKHP.xls\", index_col=0)\n",
    "data.describe()\n",
    "print(data)"
   ]
  },
  {
   "cell_type": "code",
   "execution_count": null,
   "metadata": {},
   "outputs": [],
   "source": [
    "data['dhp'] = logDiff(data['Average House Price'])\n",
    "data['chp'] = changeDiff(data['Average House Price'])\n",
    "print(data['Average House Price'])\n",
    "print('____________________')\n",
    "print(data['dhp'])\n",
    "print('____________________')\n",
    "print(data['chp'])"
   ]
  },
  {
   "cell_type": "code",
   "execution_count": null,
   "metadata": {},
   "outputs": [],
   "source": [
    "data['dhp'] = logDiff(data['Average House Price'])\n",
    "print(data['Average House Price'])\n",
    "print('__________')\n",
    "print(data['Average House Price'].shift(1))\n",
    "print('__________')\n",
    "print(data['dhp'])"
   ]
  },
  {
   "cell_type": "markdown",
   "metadata": {},
   "source": [
    "### Plots\n"
   ]
  },
  {
   "cell_type": "code",
   "execution_count": null,
   "metadata": {},
   "outputs": [],
   "source": [
    "import matplotlib.pyplot as plt \n",
    "\n",
    "plt.figure(figsize=(20,10))\n",
    "\n",
    "plt.plot(data['Average House Price'], label='hp')\n",
    "\n",
    "plt.xlabel('Date')\n",
    "plt.ylabel('Average House Price')\n",
    "plt.title('Graph')\n",
    "plt.grid(True)\n",
    "\n",
    "plt.legend()\n",
    "plt.show()"
   ]
  },
  {
   "cell_type": "markdown",
   "metadata": {},
   "source": [
    "### Simple linear regression\n"
   ]
  },
  {
   "cell_type": "code",
   "execution_count": null,
   "metadata": {},
   "outputs": [],
   "source": []
  },
  {
   "cell_type": "code",
   "execution_count": null,
   "metadata": {},
   "outputs": [],
   "source": [
    "import statsmodels.formula.api as smf\n",
    "\n",
    "data = pd.read_excel(\"data/SandPhedge.xls\", index_col=0)\n",
    "\n",
    "formula = 'Spot ~ Futures'\n",
    "\n",
    "results = smf.ols(formula, data).fit()\n",
    "\n",
    "print(results.summary())\n",
    "\n",
    "data.plot.scatter(x='Spot', y='Futures', c='DarkBlue')\n",
    "\n",
    "# plt.figure(figsize=(20,10))\n",
    "# plt.scatter(pd['Spot'],pd['Futures'], label='skitscat', color='k', s=25, marker=\"o\")\n",
    "\n",
    "# plt.xlabel('x')\n",
    "# plt.ylabel('y')\n",
    "# plt.title('Interesting Graph\\nCheck it out')\n",
    "# plt.legend()\n",
    "# plt.show()"
   ]
  },
  {
   "cell_type": "code",
   "execution_count": null,
   "metadata": {},
   "outputs": [],
   "source": []
  },
  {
   "cell_type": "code",
   "execution_count": null,
   "metadata": {},
   "outputs": [],
   "source": []
  }
 ],
 "metadata": {
  "kernelspec": {
   "display_name": ".venv",
   "language": "python",
   "name": "python3"
  },
  "language_info": {
   "codemirror_mode": {
    "name": "ipython",
    "version": 3
   },
   "file_extension": ".py",
   "mimetype": "text/x-python",
   "name": "python",
   "nbconvert_exporter": "python",
   "pygments_lexer": "ipython3",
   "version": "3.8.10"
  }
 },
 "nbformat": 4,
 "nbformat_minor": 4
}
